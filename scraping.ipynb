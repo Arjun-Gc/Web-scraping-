{
 "cells": [
  {
   "cell_type": "code",
   "execution_count": 2,
   "id": "c9fd8d6c-5ce6-4b4d-9b70-0ca5b3b15112",
   "metadata": {},
   "outputs": [],
   "source": [
    "from bs4 import BeautifulSoup\n",
    "import re , requests"
   ]
  },
  {
   "cell_type": "code",
   "execution_count": 12,
   "id": "25896d40-2622-4afb-be13-c00d51063a16",
   "metadata": {},
   "outputs": [],
   "source": [
    "URL='https://www.realestateinnepal.com/land-for-sale/page/2/'\n",
    "headers={ \"User-Agent\": \"Mozilla/5.0 (Windows NT 10.0; Win64; x64) AppleWebKit/537.36 (KHTML, like Gecko) Chrome/120.0.0.0 Safari/537.36\"}\n",
    "page=requests.get(URL,headers=headers)\n",
    "data=BeautifulSoup(page.content,'html.parser')\n",
    "\n",
    "L = []\n",
    "\n",
    "locations = data.find_all('span', {'class': 'locationko text-white'})\n",
    "\n",
    "for location in locations:\n",
    "    d = {}\n",
    "    d['location'] = location.get_text(strip=True).replace('Land For Sale', '')\n",
    "\n",
    "    div_elements = location.find_next('div', {'class': 'bg-white p-3'})\n",
    "    if div_elements:\n",
    "        d['price'] = div_elements.find('h4').get_text(strip=True)\n",
    "        \n",
    "\n",
    "        anna = div_elements.find('li', {'class': ''})\n",
    "        if anna:\n",
    "            anna_data = anna.get_text(strip=True).replace(' ', '')\n",
    "            d['Anna'] = re.sub(r'\\n[23]', '', anna_data)\n",
    "\n",
    "    L.append(d)"
   ]
  },
  {
   "cell_type": "code",
   "execution_count": 15,
   "id": "e62a1293-c545-43f1-a6ea-c449e7655d00",
   "metadata": {},
   "outputs": [],
   "source": [
    "import pandas\n",
    "df=pandas.DataFrame(L)\n",
    "df.to_csv('output.csv', index=False)"
   ]
  }
 ],
 "metadata": {
  "kernelspec": {
   "display_name": "Python 3 (ipykernel)",
   "language": "python",
   "name": "python3"
  },
  "language_info": {
   "codemirror_mode": {
    "name": "ipython",
    "version": 3
   },
   "file_extension": ".py",
   "mimetype": "text/x-python",
   "name": "python",
   "nbconvert_exporter": "python",
   "pygments_lexer": "ipython3",
   "version": "3.12.0"
  }
 },
 "nbformat": 4,
 "nbformat_minor": 5
}
